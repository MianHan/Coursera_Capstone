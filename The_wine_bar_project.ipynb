{
 "cells": [
  {
   "cell_type": "markdown",
   "metadata": {},
   "source": [
    "# The Wine bar project "
   ]
  },
  {
   "cell_type": "markdown",
   "metadata": {},
   "source": [
    "### Introduction & Business problem"
   ]
  },
  {
   "cell_type": "markdown",
   "metadata": {},
   "source": [
    "In case my career as Data scientist fails (*let's hope it doesn't*), I want to open a wine bar in Paris, France. <br/> \n",
    "Of course wine, **I'm french !** <br/>\n",
    "\n",
    "The problem is that, from my experience, Paris has multiple areas where people go out for a drink and these areas are not concentrated but rather spread around the city. <br/>\n",
    "\n",
    "Therefore, where is the best location to open a new wine bar to ensure enough clients to be successful ? <br/>\n",
    "\n",
    "To ensure success, I need the bar to be in a location where the concentration of venues such as theaters, cinemas, restaurants demonstrates an active life in the area. Using the Foursquare data, I will geolocate the venues and find the best spot to open my wine bar."
   ]
  },
  {
   "cell_type": "markdown",
   "metadata": {},
   "source": [
    "### Data section"
   ]
  },
  {
   "cell_type": "markdown",
   "metadata": {},
   "source": [
    "To provide an analytical answer to the business problem of where to open my future wine bar in Paris I will do :<br/>\n",
    "- A segmentation of Paris inner-city using a .geojson file\n",
    "- Venues data related to the neighborhoods using Foursquare API (Category of the venue, customer rating, ...)"
   ]
  },
  {
   "cell_type": "markdown",
   "metadata": {},
   "source": [
    "### Methodology"
   ]
  },
  {
   "cell_type": "markdown",
   "metadata": {},
   "source": [
    " Section which represents the main component of the report where you discuss and describe any exploratory data analysis that you did, any inferential statistical testing that you performed, if any, and what machine learnings were used and why."
   ]
  },
  {
   "cell_type": "code",
   "execution_count": 80,
   "metadata": {},
   "outputs": [],
   "source": [
    "import pandas as pd\n",
    "import numpy as np\n",
    "import requests\n",
    "from pandas.io.json import json_normalize # tranform JSON file into a pandas dataframe\n",
    "import folium # map rendering library\n",
    "import json # library to handle JSON files\n",
    "from geopy.geocoders import Nominatim # convert an address into latitude and longitude values\n",
    "import geopy.distance\n",
    "from math import sqrt"
   ]
  },
  {
   "cell_type": "markdown",
   "metadata": {},
   "source": [
    "#### Loading the Paris coordinates"
   ]
  },
  {
   "cell_type": "code",
   "execution_count": 81,
   "metadata": {},
   "outputs": [],
   "source": [
    "with open('arrondissements.geojson') as json_data:\n",
    "    parisarr = json.load(json_data)\n",
    "    \n",
    "par_data = parisarr['features']\n",
    "colnames = ['PostCode', 'Neighborhood', 'Latitude', 'Longitude']\n",
    "dfparis = pd.DataFrame(columns=colnames)"
   ]
  },
  {
   "cell_type": "code",
   "execution_count": 82,
   "metadata": {
    "scrolled": true
   },
   "outputs": [
    {
     "data": {
      "text/html": [
       "<div>\n",
       "<style scoped>\n",
       "    .dataframe tbody tr th:only-of-type {\n",
       "        vertical-align: middle;\n",
       "    }\n",
       "\n",
       "    .dataframe tbody tr th {\n",
       "        vertical-align: top;\n",
       "    }\n",
       "\n",
       "    .dataframe thead th {\n",
       "        text-align: right;\n",
       "    }\n",
       "</style>\n",
       "<table border=\"1\" class=\"dataframe\">\n",
       "  <thead>\n",
       "    <tr style=\"text-align: right;\">\n",
       "      <th></th>\n",
       "      <th>PostCode</th>\n",
       "      <th>Neighborhood</th>\n",
       "      <th>Latitude</th>\n",
       "      <th>Longitude</th>\n",
       "    </tr>\n",
       "  </thead>\n",
       "  <tbody>\n",
       "    <tr>\n",
       "      <td>0</td>\n",
       "      <td>3</td>\n",
       "      <td>Temple</td>\n",
       "      <td>48.862872</td>\n",
       "      <td>2.360001</td>\n",
       "    </tr>\n",
       "    <tr>\n",
       "      <td>1</td>\n",
       "      <td>1</td>\n",
       "      <td>Louvre</td>\n",
       "      <td>48.862563</td>\n",
       "      <td>2.336443</td>\n",
       "    </tr>\n",
       "    <tr>\n",
       "      <td>2</td>\n",
       "      <td>5</td>\n",
       "      <td>Panthéon</td>\n",
       "      <td>48.844443</td>\n",
       "      <td>2.350715</td>\n",
       "    </tr>\n",
       "    <tr>\n",
       "      <td>3</td>\n",
       "      <td>6</td>\n",
       "      <td>Luxembourg</td>\n",
       "      <td>48.849130</td>\n",
       "      <td>2.332898</td>\n",
       "    </tr>\n",
       "    <tr>\n",
       "      <td>4</td>\n",
       "      <td>12</td>\n",
       "      <td>Reuilly</td>\n",
       "      <td>48.834974</td>\n",
       "      <td>2.421325</td>\n",
       "    </tr>\n",
       "  </tbody>\n",
       "</table>\n",
       "</div>"
      ],
      "text/plain": [
       "  PostCode Neighborhood   Latitude  Longitude\n",
       "0        3       Temple  48.862872   2.360001\n",
       "1        1       Louvre  48.862563   2.336443\n",
       "2        5     Panthéon  48.844443   2.350715\n",
       "3        6   Luxembourg  48.849130   2.332898\n",
       "4       12      Reuilly  48.834974   2.421325"
      ]
     },
     "execution_count": 82,
     "metadata": {},
     "output_type": "execute_result"
    }
   ],
   "source": [
    "for d in par_data: \n",
    "    latlon = d['properties']['geom_x_y']\n",
    "    code = d['properties']['c_ar']    \n",
    "    neigh = d['properties']['l_aroff']\n",
    "    \n",
    "    lat = latlon[0]\n",
    "    lon = latlon[1]\n",
    "    dfparis= dfparis.append({'PostCode' : code, 'Neighborhood' : neigh, 'Latitude' : lat, 'Longitude' : lon}, ignore_index=True)   \n",
    "\n",
    "dfparis.head()"
   ]
  },
  {
   "cell_type": "code",
   "execution_count": 83,
   "metadata": {},
   "outputs": [
    {
     "name": "stdout",
     "output_type": "stream",
     "text": [
      "The geograpical coordinate of Paris are 48.8566969, 2.3514616.\n"
     ]
    }
   ],
   "source": [
    "address = 'Paris, France'\n",
    "\n",
    "geolocator = Nominatim(user_agent=\"par_explorer\")\n",
    "location = geolocator.geocode(address)\n",
    "latitude = location.latitude\n",
    "longitude = location.longitude\n",
    "print('The geograpical coordinate of Paris are {}, {}.'.format(latitude, longitude))"
   ]
  },
  {
   "cell_type": "markdown",
   "metadata": {},
   "source": [
    "#### Creation of a map of Paris, using Follium"
   ]
  },
  {
   "cell_type": "code",
   "execution_count": 84,
   "metadata": {},
   "outputs": [
    {
     "data": {
      "text/html": [
       "<div style=\"width:100%;\"><div style=\"position:relative;width:100%;height:0;padding-bottom:60%;\"><iframe src=\"data:text/html;charset=utf-8;base64,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\" style=\"position:absolute;width:100%;height:100%;left:0;top:0;border:none !important;\" allowfullscreen webkitallowfullscreen mozallowfullscreen></iframe></div></div>"
      ],
      "text/plain": [
       "<folium.folium.Map at 0x16d156d2e88>"
      ]
     },
     "execution_count": 84,
     "metadata": {},
     "output_type": "execute_result"
    }
   ],
   "source": [
    "# create map of Paris using latitude and longitude values\n",
    "map_paris = folium.Map(location=[latitude, longitude], zoom_start=12)\n",
    "\n",
    "# add markers to map\n",
    "for lat, lng, label in zip(dfparis['Latitude'], dfparis['Longitude'], dfparis['Neighborhood']):\n",
    "    label = folium.Popup(label, parse_html=True)\n",
    "    folium.CircleMarker(\n",
    "        [lat, lng],\n",
    "        radius=5,\n",
    "        popup=label,\n",
    "        color='blue',\n",
    "        fill=True,\n",
    "        fill_color='#3186cc',\n",
    "        fill_opacity=0.7,\n",
    "        parse_html=False).add_to(map_paris)  \n",
    "    \n",
    "map_paris"
   ]
  },
  {
   "cell_type": "markdown",
   "metadata": {},
   "source": [
    "The above map shows Paris with the the center coordinates of its 20 arrondissements (neighborhoods)."
   ]
  },
  {
   "cell_type": "code",
   "execution_count": 85,
   "metadata": {},
   "outputs": [],
   "source": [
    "df_coor = dfparis[['Latitude', 'Longitude']]\n",
    "dfparis['Distance from center'] = ''"
   ]
  },
  {
   "cell_type": "code",
   "execution_count": 86,
   "metadata": {},
   "outputs": [],
   "source": [
    "#Function to calculate the distance of center coordinates of each neighborgood to the center of Paris\n",
    "def calc_xy_distance(coords_1, coords_2):\n",
    "    return geopy.distance.vincenty(coords_1, coords_2).m"
   ]
  },
  {
   "cell_type": "code",
   "execution_count": 87,
   "metadata": {},
   "outputs": [
    {
     "name": "stderr",
     "output_type": "stream",
     "text": [
      "C:\\Users\\hantu\\Anaconda3\\lib\\site-packages\\ipykernel_launcher.py:3: DeprecationWarning: Vincenty is deprecated and is going to be removed in geopy 2.0. Use `geopy.distance.geodesic` (or the default `geopy.distance.distance`) instead, which is more accurate and always converges.\n",
      "  This is separate from the ipykernel package so we can avoid doing imports until\n",
      "C:\\Users\\hantu\\Anaconda3\\lib\\site-packages\\ipykernel_launcher.py:2: SettingWithCopyWarning: \n",
      "A value is trying to be set on a copy of a slice from a DataFrame\n",
      "\n",
      "See the caveats in the documentation: http://pandas.pydata.org/pandas-docs/stable/user_guide/indexing.html#returning-a-view-versus-a-copy\n",
      "  \n"
     ]
    },
    {
     "data": {
      "text/html": [
       "<div>\n",
       "<style scoped>\n",
       "    .dataframe tbody tr th:only-of-type {\n",
       "        vertical-align: middle;\n",
       "    }\n",
       "\n",
       "    .dataframe tbody tr th {\n",
       "        vertical-align: top;\n",
       "    }\n",
       "\n",
       "    .dataframe thead th {\n",
       "        text-align: right;\n",
       "    }\n",
       "</style>\n",
       "<table border=\"1\" class=\"dataframe\">\n",
       "  <thead>\n",
       "    <tr style=\"text-align: right;\">\n",
       "      <th></th>\n",
       "      <th>Latitude</th>\n",
       "      <th>Longitude</th>\n",
       "    </tr>\n",
       "  </thead>\n",
       "  <tbody>\n",
       "    <tr>\n",
       "      <td>0</td>\n",
       "      <td>48.862872</td>\n",
       "      <td>2.360001</td>\n",
       "    </tr>\n",
       "    <tr>\n",
       "      <td>1</td>\n",
       "      <td>48.862563</td>\n",
       "      <td>2.336443</td>\n",
       "    </tr>\n",
       "    <tr>\n",
       "      <td>2</td>\n",
       "      <td>48.844443</td>\n",
       "      <td>2.350715</td>\n",
       "    </tr>\n",
       "    <tr>\n",
       "      <td>3</td>\n",
       "      <td>48.849130</td>\n",
       "      <td>2.332898</td>\n",
       "    </tr>\n",
       "    <tr>\n",
       "      <td>4</td>\n",
       "      <td>48.834974</td>\n",
       "      <td>2.421325</td>\n",
       "    </tr>\n",
       "  </tbody>\n",
       "</table>\n",
       "</div>"
      ],
      "text/plain": [
       "    Latitude  Longitude\n",
       "0  48.862872   2.360001\n",
       "1  48.862563   2.336443\n",
       "2  48.844443   2.350715\n",
       "3  48.849130   2.332898\n",
       "4  48.834974   2.421325"
      ]
     },
     "execution_count": 87,
     "metadata": {},
     "output_type": "execute_result"
    }
   ],
   "source": [
    "for i in range(0, len(df_coor)):\n",
    "    dfparis['Distance from center'][i] = calc_xy_distance((df_coor['Latitude'][i], df_coor['Longitude'][i]), (latitude, longitude))\n",
    "    \n",
    "dfparis.head()"
   ]
  },
  {
   "cell_type": "markdown",
   "metadata": {},
   "source": [
    "Now let's identify the venues around each of these center coordinates of the city using the **Foursquare API**."
   ]
  },
  {
   "cell_type": "markdown",
   "metadata": {},
   "source": [
    "#### Foursquare"
   ]
  },
  {
   "cell_type": "markdown",
   "metadata": {},
   "source": [
    "Let's use Foursquare API to get info on wine bars in each neighborhood.<br/>\n",
    "\n",
    "We're interested in venues in 'bar' category, but only those that are proper bars - coffe shops, pizza places, bakeries etc. are not direct competitors so we do not take them into account. *We will include in out list only venues that have 'restaurant' in category name, and we'll make sure to detect and include all the subcategories of specific 'Wine' category, as we need info on wine bars in the neighborhoods.*"
   ]
  },
  {
   "cell_type": "code",
   "execution_count": 100,
   "metadata": {
    "collapsed": true,
    "tags": [
     "hide_input",
     "hide_output"
    ]
   },
   "outputs": [],
   "source": [
    "#Foursquare Credentials\n",
    "CLIENT_ID = 'JO31W52NKMLMEQBPQ3GSRBK3FKRXIIJLIFKSRNDDTC5K1Q23' # your Foursquare ID\n",
    "CLIENT_SECRET = 'XVGAMH0OCJG03ALF5ONIWJN3CJ5TOMKTST0ECRVRKQVCVHNL' # your Foursquare Secret\n",
    "VERSION = '20180605' # Foursquare API version"
   ]
  },
  {
   "cell_type": "code",
   "execution_count": 101,
   "metadata": {},
   "outputs": [],
   "source": [
    "category_id = '4d4b7105d754a06376d81259' #Night life\n",
    "sub_category_id = '4bf58dd8d48988d116941735' #Bar\n",
    "subsub_category_id = '4bf58dd8d48988d123941735' #Bar à vin category"
   ]
  },
  {
   "cell_type": "code",
   "execution_count": null,
   "metadata": {},
   "outputs": [],
   "source": []
  },
  {
   "cell_type": "markdown",
   "metadata": {},
   "source": [
    "### Results"
   ]
  },
  {
   "cell_type": "code",
   "execution_count": null,
   "metadata": {},
   "outputs": [],
   "source": []
  },
  {
   "cell_type": "code",
   "execution_count": null,
   "metadata": {},
   "outputs": [],
   "source": []
  },
  {
   "cell_type": "markdown",
   "metadata": {},
   "source": [
    "### Discussion"
   ]
  },
  {
   "cell_type": "code",
   "execution_count": null,
   "metadata": {},
   "outputs": [],
   "source": []
  },
  {
   "cell_type": "code",
   "execution_count": null,
   "metadata": {},
   "outputs": [],
   "source": []
  },
  {
   "cell_type": "markdown",
   "metadata": {},
   "source": [
    "### Conclusion"
   ]
  },
  {
   "cell_type": "code",
   "execution_count": null,
   "metadata": {},
   "outputs": [],
   "source": []
  },
  {
   "cell_type": "code",
   "execution_count": null,
   "metadata": {},
   "outputs": [],
   "source": []
  },
  {
   "cell_type": "code",
   "execution_count": null,
   "metadata": {},
   "outputs": [],
   "source": []
  },
  {
   "cell_type": "code",
   "execution_count": null,
   "metadata": {},
   "outputs": [],
   "source": []
  },
  {
   "cell_type": "code",
   "execution_count": null,
   "metadata": {},
   "outputs": [],
   "source": []
  }
 ],
 "metadata": {
  "celltoolbar": "Aucun(e)",
  "kernelspec": {
   "display_name": "Python 3",
   "language": "python",
   "name": "python3"
  },
  "language_info": {
   "codemirror_mode": {
    "name": "ipython",
    "version": 3
   },
   "file_extension": ".py",
   "mimetype": "text/x-python",
   "name": "python",
   "nbconvert_exporter": "python",
   "pygments_lexer": "ipython3",
   "version": "3.7.4"
  }
 },
 "nbformat": 4,
 "nbformat_minor": 2
}
