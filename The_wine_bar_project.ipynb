{
 "cells": [
  {
   "cell_type": "markdown",
   "metadata": {},
   "source": [
    "# The Wine bar project "
   ]
  },
  {
   "cell_type": "markdown",
   "metadata": {},
   "source": [
    "### Introduction & Business problem"
   ]
  },
  {
   "cell_type": "markdown",
   "metadata": {},
   "source": [
    "In case my career as Data scientist fails (*let's hope it doesn't*), I want to open a wine bar in Paris, France. <br/> \n",
    "Of course wine, **I'm french !** <br/>\n",
    "\n",
    "The problem is that, from my experience, Paris has multiple areas where people go out for a drink and these areas are not concentrated but rather spread around the city. <br/>\n",
    "\n",
    "Therefore, where is the best location to open a new wine bar to ensure enough clients to be successful ? <br/>\n",
    "\n",
    "As requirements to adress this problem, I will look at clients preferences when it comes to going and show relationships between the venues. Using the Foursquare data, I will geolocate the venues and find the best spot to open my wine bar."
   ]
  },
  {
   "cell_type": "markdown",
   "metadata": {},
   "source": [
    "### Data section"
   ]
  },
  {
   "cell_type": "markdown",
   "metadata": {},
   "source": [
    "To provide an analytical answer to the business problem of where to open my future wine bar in Paris I will do :<br/>\n",
    "- A segmentation of Paris inner-city using a .geojson file\n",
    "- Venues data related to the neighborhoods using Foursquare API (Category of the venue, customer rating, ...)"
   ]
  }
 ],
 "metadata": {
  "kernelspec": {
   "display_name": "Python 3",
   "language": "python",
   "name": "python3"
  },
  "language_info": {
   "codemirror_mode": {
    "name": "ipython",
    "version": 3
   },
   "file_extension": ".py",
   "mimetype": "text/x-python",
   "name": "python",
   "nbconvert_exporter": "python",
   "pygments_lexer": "ipython3",
   "version": "3.7.4"
  }
 },
 "nbformat": 4,
 "nbformat_minor": 2
}
